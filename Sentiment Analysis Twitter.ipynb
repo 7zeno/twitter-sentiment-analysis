{
 "cells": [
  {
   "cell_type": "code",
   "execution_count": 2,
   "id": "9f873841-7057-4d89-9b93-357f31494e2b",
   "metadata": {},
   "outputs": [],
   "source": [
    "%load_ext cuml.accel"
   ]
  },
  {
   "cell_type": "code",
   "execution_count": 2,
   "id": "2db06ce9-04e2-41fe-966a-f9b243ae7fb5",
   "metadata": {},
   "outputs": [],
   "source": [
    "import cudf as pd\n",
    "import cupy as np\n",
    "from cuml.model_selection import train_test_split\n",
    "from cuml.feature_extraction.text import CountVectorizer\n",
    "from cuml.feature_extraction.text import TfidfVectorizer\n",
    "from cuml.linear_model import LogisticRegression\n",
    "from cuml.metrics import accuracy_score"
   ]
  },
  {
   "cell_type": "code",
   "execution_count": 4,
   "id": "9ebb7611-0c9c-4413-a03a-1a0706363bec",
   "metadata": {},
   "outputs": [],
   "source": [
    "dataset = pd.read_csv('/home/zzeno/my-dataset.csv')"
   ]
  },
  {
   "cell_type": "code",
   "execution_count": 5,
   "id": "d85779e5-a7c3-4e93-a978-7ea1b7fd7aa0",
   "metadata": {},
   "outputs": [
    {
     "data": {
      "text/html": [
       "<div>\n",
       "<style scoped>\n",
       "    .dataframe tbody tr th:only-of-type {\n",
       "        vertical-align: middle;\n",
       "    }\n",
       "\n",
       "    .dataframe tbody tr th {\n",
       "        vertical-align: top;\n",
       "    }\n",
       "\n",
       "    .dataframe thead th {\n",
       "        text-align: right;\n",
       "    }\n",
       "</style>\n",
       "<table border=\"1\" class=\"dataframe\">\n",
       "  <thead>\n",
       "    <tr style=\"text-align: right;\">\n",
       "      <th></th>\n",
       "      <th>0</th>\n",
       "      <th>1467810369</th>\n",
       "      <th>Mon Apr 06 22:19:45 PDT 2009</th>\n",
       "      <th>NO_QUERY</th>\n",
       "      <th>_TheSpecialOne_</th>\n",
       "      <th>@switchfoot http://twitpic.com/2y1zl - Awww, that's a bummer.  You shoulda got David Carr of Third Day to do it. ;D</th>\n",
       "    </tr>\n",
       "  </thead>\n",
       "  <tbody>\n",
       "    <tr>\n",
       "      <th>0</th>\n",
       "      <td>0</td>\n",
       "      <td>1467810672</td>\n",
       "      <td>Mon Apr 06 22:19:49 PDT 2009</td>\n",
       "      <td>NO_QUERY</td>\n",
       "      <td>scotthamilton</td>\n",
       "      <td>is upset that he can't update his Facebook by ...</td>\n",
       "    </tr>\n",
       "    <tr>\n",
       "      <th>1</th>\n",
       "      <td>0</td>\n",
       "      <td>1467810917</td>\n",
       "      <td>Mon Apr 06 22:19:53 PDT 2009</td>\n",
       "      <td>NO_QUERY</td>\n",
       "      <td>mattycus</td>\n",
       "      <td>@Kenichan I dived many times for the ball. Man...</td>\n",
       "    </tr>\n",
       "    <tr>\n",
       "      <th>2</th>\n",
       "      <td>0</td>\n",
       "      <td>1467811184</td>\n",
       "      <td>Mon Apr 06 22:19:57 PDT 2009</td>\n",
       "      <td>NO_QUERY</td>\n",
       "      <td>ElleCTF</td>\n",
       "      <td>my whole body feels itchy and like its on fire</td>\n",
       "    </tr>\n",
       "    <tr>\n",
       "      <th>3</th>\n",
       "      <td>0</td>\n",
       "      <td>1467811193</td>\n",
       "      <td>Mon Apr 06 22:19:57 PDT 2009</td>\n",
       "      <td>NO_QUERY</td>\n",
       "      <td>Karoli</td>\n",
       "      <td>@nationwideclass no, it's not behaving at all....</td>\n",
       "    </tr>\n",
       "    <tr>\n",
       "      <th>4</th>\n",
       "      <td>0</td>\n",
       "      <td>1467811372</td>\n",
       "      <td>Mon Apr 06 22:20:00 PDT 2009</td>\n",
       "      <td>NO_QUERY</td>\n",
       "      <td>joy_wolf</td>\n",
       "      <td>@Kwesidei not the whole crew</td>\n",
       "    </tr>\n",
       "  </tbody>\n",
       "</table>\n",
       "</div>"
      ],
      "text/plain": [
       "   0  1467810369  Mon Apr 06 22:19:45 PDT 2009  NO_QUERY _TheSpecialOne_  \\\n",
       "0  0  1467810672  Mon Apr 06 22:19:49 PDT 2009  NO_QUERY   scotthamilton   \n",
       "1  0  1467810917  Mon Apr 06 22:19:53 PDT 2009  NO_QUERY        mattycus   \n",
       "2  0  1467811184  Mon Apr 06 22:19:57 PDT 2009  NO_QUERY         ElleCTF   \n",
       "3  0  1467811193  Mon Apr 06 22:19:57 PDT 2009  NO_QUERY          Karoli   \n",
       "4  0  1467811372  Mon Apr 06 22:20:00 PDT 2009  NO_QUERY        joy_wolf   \n",
       "\n",
       "  @switchfoot http://twitpic.com/2y1zl - Awww, that's a bummer.  You shoulda got David Carr of Third Day to do it. ;D  \n",
       "0  is upset that he can't update his Facebook by ...                                                                   \n",
       "1  @Kenichan I dived many times for the ball. Man...                                                                   \n",
       "2    my whole body feels itchy and like its on fire                                                                    \n",
       "3  @nationwideclass no, it's not behaving at all....                                                                   \n",
       "4                      @Kwesidei not the whole crew                                                                    "
      ]
     },
     "execution_count": 5,
     "metadata": {},
     "output_type": "execute_result"
    }
   ],
   "source": [
    "dataset.head()"
   ]
  },
  {
   "cell_type": "code",
   "execution_count": 6,
   "id": "011e7c09-6412-4517-92ca-fd63e4ffef84",
   "metadata": {},
   "outputs": [],
   "source": [
    "col_names = ['target', 'id', 'date', 'flag', 'user', 'text']\n",
    "dataset.columns = col_names"
   ]
  },
  {
   "cell_type": "code",
   "execution_count": 10,
   "id": "0af65454-e51a-4c9e-9776-0c041bf5190e",
   "metadata": {},
   "outputs": [
    {
     "data": {
      "text/html": [
       "<div>\n",
       "<style scoped>\n",
       "    .dataframe tbody tr th:only-of-type {\n",
       "        vertical-align: middle;\n",
       "    }\n",
       "\n",
       "    .dataframe tbody tr th {\n",
       "        vertical-align: top;\n",
       "    }\n",
       "\n",
       "    .dataframe thead th {\n",
       "        text-align: right;\n",
       "    }\n",
       "</style>\n",
       "<table border=\"1\" class=\"dataframe\">\n",
       "  <thead>\n",
       "    <tr style=\"text-align: right;\">\n",
       "      <th></th>\n",
       "      <th>target</th>\n",
       "      <th>id</th>\n",
       "      <th>date</th>\n",
       "      <th>flag</th>\n",
       "      <th>user</th>\n",
       "      <th>text</th>\n",
       "    </tr>\n",
       "  </thead>\n",
       "  <tbody>\n",
       "    <tr>\n",
       "      <th>0</th>\n",
       "      <td>0</td>\n",
       "      <td>1467810672</td>\n",
       "      <td>Mon Apr 06 22:19:49 PDT 2009</td>\n",
       "      <td>NO_QUERY</td>\n",
       "      <td>scotthamilton</td>\n",
       "      <td>is upset that he can't update his Facebook by ...</td>\n",
       "    </tr>\n",
       "    <tr>\n",
       "      <th>1</th>\n",
       "      <td>0</td>\n",
       "      <td>1467810917</td>\n",
       "      <td>Mon Apr 06 22:19:53 PDT 2009</td>\n",
       "      <td>NO_QUERY</td>\n",
       "      <td>mattycus</td>\n",
       "      <td>@Kenichan I dived many times for the ball. Man...</td>\n",
       "    </tr>\n",
       "    <tr>\n",
       "      <th>2</th>\n",
       "      <td>0</td>\n",
       "      <td>1467811184</td>\n",
       "      <td>Mon Apr 06 22:19:57 PDT 2009</td>\n",
       "      <td>NO_QUERY</td>\n",
       "      <td>ElleCTF</td>\n",
       "      <td>my whole body feels itchy and like its on fire</td>\n",
       "    </tr>\n",
       "    <tr>\n",
       "      <th>3</th>\n",
       "      <td>0</td>\n",
       "      <td>1467811193</td>\n",
       "      <td>Mon Apr 06 22:19:57 PDT 2009</td>\n",
       "      <td>NO_QUERY</td>\n",
       "      <td>Karoli</td>\n",
       "      <td>@nationwideclass no, it's not behaving at all....</td>\n",
       "    </tr>\n",
       "    <tr>\n",
       "      <th>4</th>\n",
       "      <td>0</td>\n",
       "      <td>1467811372</td>\n",
       "      <td>Mon Apr 06 22:20:00 PDT 2009</td>\n",
       "      <td>NO_QUERY</td>\n",
       "      <td>joy_wolf</td>\n",
       "      <td>@Kwesidei not the whole crew</td>\n",
       "    </tr>\n",
       "  </tbody>\n",
       "</table>\n",
       "</div>"
      ],
      "text/plain": [
       "  target          id                          date      flag           user  \\\n",
       "0      0  1467810672  Mon Apr 06 22:19:49 PDT 2009  NO_QUERY  scotthamilton   \n",
       "1      0  1467810917  Mon Apr 06 22:19:53 PDT 2009  NO_QUERY       mattycus   \n",
       "2      0  1467811184  Mon Apr 06 22:19:57 PDT 2009  NO_QUERY        ElleCTF   \n",
       "3      0  1467811193  Mon Apr 06 22:19:57 PDT 2009  NO_QUERY         Karoli   \n",
       "4      0  1467811372  Mon Apr 06 22:20:00 PDT 2009  NO_QUERY       joy_wolf   \n",
       "\n",
       "                                                text  \n",
       "0  is upset that he can't update his Facebook by ...  \n",
       "1  @Kenichan I dived many times for the ball. Man...  \n",
       "2    my whole body feels itchy and like its on fire   \n",
       "3  @nationwideclass no, it's not behaving at all....  \n",
       "4                      @Kwesidei not the whole crew   "
      ]
     },
     "execution_count": 10,
     "metadata": {},
     "output_type": "execute_result"
    }
   ],
   "source": [
    "dataset.head(5)"
   ]
  },
  {
   "cell_type": "code",
   "execution_count": 12,
   "id": "9f2cc112-d7da-4c92-a619-fe31024be4b5",
   "metadata": {},
   "outputs": [
    {
     "data": {
      "text/plain": [
       "(1599999, 6)"
      ]
     },
     "execution_count": 12,
     "metadata": {},
     "output_type": "execute_result"
    }
   ],
   "source": [
    "dataset.shape"
   ]
  },
  {
   "cell_type": "code",
   "execution_count": 13,
   "id": "47470200-fc10-4a7b-9e9c-7c713e3ca814",
   "metadata": {},
   "outputs": [
    {
     "data": {
      "text/plain": [
       "target    0\n",
       "id        0\n",
       "date      0\n",
       "flag      0\n",
       "user      0\n",
       "text      0\n",
       "dtype: int64"
      ]
     },
     "execution_count": 13,
     "metadata": {},
     "output_type": "execute_result"
    }
   ],
   "source": [
    "dataset.isnull().sum()"
   ]
  },
  {
   "cell_type": "code",
   "execution_count": 14,
   "id": "67ec5b89-5ab4-405b-8689-27d2d5656de2",
   "metadata": {},
   "outputs": [
    {
     "data": {
      "text/plain": [
       "target\n",
       "4    800000\n",
       "0    799999\n",
       "Name: count, dtype: int64"
      ]
     },
     "execution_count": 14,
     "metadata": {},
     "output_type": "execute_result"
    }
   ],
   "source": [
    "dataset['target'].value_counts()"
   ]
  },
  {
   "cell_type": "code",
   "execution_count": 15,
   "id": "432cea3c-d6d4-44ca-a504-293ed84a59e3",
   "metadata": {},
   "outputs": [],
   "source": [
    "dataset['target'] = dataset['target'].map({4:1, 0:0})"
   ]
  },
  {
   "cell_type": "code",
   "execution_count": 16,
   "id": "f201bd6c-099e-4f38-9e1c-0958c77ce5ab",
   "metadata": {},
   "outputs": [
    {
     "data": {
      "text/plain": [
       "target\n",
       "1    800000\n",
       "0    799999\n",
       "Name: count, dtype: int64"
      ]
     },
     "execution_count": 16,
     "metadata": {},
     "output_type": "execute_result"
    }
   ],
   "source": [
    "dataset['target'].value_counts()"
   ]
  },
  {
   "cell_type": "code",
   "execution_count": 17,
   "id": "e08f6999-f2a6-41b5-905f-881918d4c441",
   "metadata": {},
   "outputs": [
    {
     "name": "stdout",
     "output_type": "stream",
     "text": [
      "Cleaning text on GPU...\n",
      "Text cleaning complete.\n"
     ]
    }
   ],
   "source": [
    "print(\"Cleaning text on GPU...\")\n",
    "processed_text = dataset['text'].str.lower()\n",
    "processed_text = processed_text.str.replace(r'http\\S+', '', regex=True)\n",
    "processed_text = processed_text.str.replace(r'@\\w+', '', regex=True)\n",
    "processed_text = processed_text.str.replace(r'^rt\\s+', '', regex=True)\n",
    "processed_text = processed_text.str.replace(r'#', '', regex=False)\n",
    "processed_text = processed_text.str.replace(r'[^a-z\\s]', '', regex=True)\n",
    "processed_text = processed_text.str.replace(r'\\s+', ' ', regex=True)\n",
    "processed_text = processed_text.str.strip()\n",
    "dataset['text'] = processed_text\n",
    "print('Text cleaning complete.')"
   ]
  },
  {
   "cell_type": "code",
   "execution_count": 18,
   "id": "dedb09ec-8c1d-4856-ac89-1e38fa9ac286",
   "metadata": {},
   "outputs": [
    {
     "data": {
      "text/plain": [
       "0    is upset that he cant update his facebook by t...\n",
       "1    i dived many times for the ball managed to sav...\n",
       "2       my whole body feels itchy and like its on fire\n",
       "3    no its not behaving at all im mad why am i her...\n",
       "4                                   not the whole crew\n",
       "Name: text, dtype: object"
      ]
     },
     "execution_count": 18,
     "metadata": {},
     "output_type": "execute_result"
    }
   ],
   "source": [
    "dataset['text'].head()"
   ]
  },
  {
   "cell_type": "code",
   "execution_count": 19,
   "id": "7fa97d7a-c3e8-4a40-913d-20d012a877d1",
   "metadata": {},
   "outputs": [
    {
     "name": "stdout",
     "output_type": "stream",
     "text": [
      "Splitting dataframe...\n"
     ]
    }
   ],
   "source": [
    "print('Splitting dataframe...')\n",
    "df_clean = dataset[['text', 'target']]"
   ]
  },
  {
   "cell_type": "code",
   "execution_count": 20,
   "id": "b6e0fcd2-c8a4-4f50-a2ba-a3234dfee0d8",
   "metadata": {},
   "outputs": [],
   "source": [
    "valid_rows = df_clean['text'].str.len() > 0\n",
    "df_clean = df_clean[valid_rows]"
   ]
  },
  {
   "cell_type": "code",
   "execution_count": 21,
   "id": "d42e6e6b-b369-40b0-9cdc-e975b0a1c06a",
   "metadata": {},
   "outputs": [
    {
     "data": {
      "text/plain": [
       "(1596341, 2)"
      ]
     },
     "execution_count": 21,
     "metadata": {},
     "output_type": "execute_result"
    }
   ],
   "source": [
    "df_clean.shape"
   ]
  },
  {
   "cell_type": "code",
   "execution_count": 22,
   "id": "e9784dc1-05ac-409f-b7bf-daad97a9c121",
   "metadata": {},
   "outputs": [
    {
     "name": "stdout",
     "output_type": "stream",
     "text": [
      "(1277073, 2)\n",
      "(319268, 2)\n"
     ]
    }
   ],
   "source": [
    "train_df, test_df = train_test_split(\n",
    "    df_clean,\n",
    "    test_size=0.2,\n",
    "    random_state=100,\n",
    "    stratify=df_clean['target']\n",
    ")\n",
    "\n",
    "print(train_df.shape)\n",
    "print(test_df.shape)"
   ]
  },
  {
   "cell_type": "code",
   "execution_count": 23,
   "id": "d1b64523-afa6-42ac-a38c-be88429aba4c",
   "metadata": {},
   "outputs": [],
   "source": [
    "X_train = train_df['text']\n",
    "y_train = train_df['target']\n",
    "\n",
    "X_test = test_df['text']\n",
    "y_test = test_df['target']"
   ]
  },
  {
   "cell_type": "code",
   "execution_count": 24,
   "id": "6b08acfe-ea53-4f00-9cfe-4999e53ae9ae",
   "metadata": {},
   "outputs": [
    {
     "name": "stdout",
     "output_type": "stream",
     "text": [
      "Starting Vectorizing on GPU...\n"
     ]
    }
   ],
   "source": [
    "print('Starting Vectorizing on GPU...')\n",
    "vectorizer = TfidfVectorizer(stop_words='english', max_features=50000, ngram_range=(1, 2), min_df=5, max_df=0.5)"
   ]
  },
  {
   "cell_type": "code",
   "execution_count": 25,
   "id": "b6398249-6b60-4bcf-b8ae-99c08db00927",
   "metadata": {},
   "outputs": [],
   "source": [
    "X_train_vector = vectorizer.fit_transform(X_train)"
   ]
  },
  {
   "cell_type": "code",
   "execution_count": 26,
   "id": "64f7d2d1-91fc-4c7f-b9d5-3788f7ce4b59",
   "metadata": {},
   "outputs": [],
   "source": [
    "X_test_vector = vectorizer.transform(X_test)"
   ]
  },
  {
   "cell_type": "code",
   "execution_count": 27,
   "id": "57730ae1-a17a-442b-bead-9615bf12517c",
   "metadata": {},
   "outputs": [
    {
     "name": "stdout",
     "output_type": "stream",
     "text": [
      "Vectorization complete.\n"
     ]
    }
   ],
   "source": [
    "print('Vectorization complete.')"
   ]
  },
  {
   "cell_type": "code",
   "execution_count": 38,
   "id": "56549d10-3c6b-4ab7-86d5-d5af519b0d40",
   "metadata": {},
   "outputs": [
    {
     "name": "stdout",
     "output_type": "stream",
     "text": [
      "(1277073, 50000)\n",
      "(319268, 50000)\n"
     ]
    }
   ],
   "source": [
    "print(X_train_vector.shape)\n",
    "print(X_test_vector.shape)"
   ]
  },
  {
   "cell_type": "code",
   "execution_count": 29,
   "id": "57bf6c05-1d87-4da7-a8db-0d0a3e0ff5e7",
   "metadata": {},
   "outputs": [
    {
     "name": "stdout",
     "output_type": "stream",
     "text": [
      "Initizaling the Model...\n",
      "Model Initialized.\n"
     ]
    }
   ],
   "source": [
    "print('Initizaling the Model...')\n",
    "\n",
    "lr = LogisticRegression()\n",
    "\n",
    "print('Model Initialized.')"
   ]
  },
  {
   "cell_type": "code",
   "execution_count": 30,
   "id": "76dd8274-12b1-4e0f-8f38-ea1dfb095f81",
   "metadata": {},
   "outputs": [
    {
     "name": "stdout",
     "output_type": "stream",
     "text": [
      "Training the model...\n",
      "Training Complete.\n"
     ]
    }
   ],
   "source": [
    "print('Training the model...')\n",
    "lr.fit(X_train_vector, y_train)\n",
    "print('Training Complete.')"
   ]
  },
  {
   "cell_type": "code",
   "execution_count": 31,
   "id": "acbf2fb6-de30-4988-8fd5-216853274e1a",
   "metadata": {},
   "outputs": [],
   "source": [
    "y_pred_lr = lr.predict(X_test_vector)"
   ]
  },
  {
   "cell_type": "code",
   "execution_count": 32,
   "id": "735fe730-7efe-4735-a938-3affc098f1f2",
   "metadata": {},
   "outputs": [
    {
     "name": "stdout",
     "output_type": "stream",
     "text": [
      "Accuracy Score:  0.7837897941541275\n"
     ]
    }
   ],
   "source": [
    "print('Accuracy Score: ',accuracy_score(y_test, y_pred_lr))"
   ]
  },
  {
   "cell_type": "code",
   "execution_count": 33,
   "id": "f31b386c-5875-4554-b809-19264a99223e",
   "metadata": {},
   "outputs": [],
   "source": [
    "from cuml.naive_bayes import MultinomialNB\n",
    "nb = MultinomialNB(alpha=0)"
   ]
  },
  {
   "cell_type": "code",
   "execution_count": 34,
   "id": "ced6b708-f528-4b04-bec1-5d5e3decf9fb",
   "metadata": {},
   "outputs": [
    {
     "name": "stdout",
     "output_type": "stream",
     "text": [
      "Training model...\n",
      "Training Complete.\n"
     ]
    }
   ],
   "source": [
    "print('Training model...')\n",
    "nb.fit(X_train_vector, y_train)\n",
    "print('Training Complete.')"
   ]
  },
  {
   "cell_type": "code",
   "execution_count": 35,
   "id": "eb54658f-f676-4a80-a484-99f2ad1222d7",
   "metadata": {},
   "outputs": [
    {
     "name": "stdout",
     "output_type": "stream",
     "text": [
      "Accuracy Score:  0.7679754939423932\n"
     ]
    }
   ],
   "source": [
    "y_pred_nb = nb.predict(X_test_vector)\n",
    "print('Accuracy Score: ',accuracy_score(y_test, y_pred_nb))"
   ]
  },
  {
   "cell_type": "code",
   "execution_count": 36,
   "id": "ab0d996e-a052-4874-b3b4-821e2af58706",
   "metadata": {},
   "outputs": [
    {
     "name": "stdout",
     "output_type": "stream",
     "text": [
      "0.631992557976371\n"
     ]
    }
   ],
   "source": [
    "from cuml.neighbors import KNeighborsClassifier\n",
    "knn = KNeighborsClassifier()\n",
    "knn.fit(X_train_vector, y_train)\n",
    "y_pred_knn = knn.predict(X_test_vector)\n",
    "print(accuracy_score(y_test, y_pred_knn))"
   ]
  },
  {
   "cell_type": "code",
   "execution_count": 71,
   "id": "b3afa76d-9b6a-4f65-b832-479497e30182",
   "metadata": {},
   "outputs": [],
   "source": [
    "from cuml.metrics import confusion_matrix"
   ]
  },
  {
   "cell_type": "code",
   "execution_count": 72,
   "id": "cbb6a45d-4206-4a10-9bcb-9f918505fe62",
   "metadata": {},
   "outputs": [
    {
     "name": "stdout",
     "output_type": "stream",
     "text": [
      "Confusion Matrix for LogisticRegression: \n",
      "\n"
     ]
    },
    {
     "data": {
      "text/plain": [
       "array([[122032,  37633],\n",
       "       [ 30644, 128959]])"
      ]
     },
     "execution_count": 72,
     "metadata": {},
     "output_type": "execute_result"
    }
   ],
   "source": [
    "print('Confusion Matrix for LogisticRegression: \\n')\n",
    "confusion_matrix(y_test, y_pred_lr)"
   ]
  },
  {
   "cell_type": "code",
   "execution_count": 73,
   "id": "2d2b8e8d-ea36-45b2-9bc3-ff8c02a3fede",
   "metadata": {},
   "outputs": [
    {
     "name": "stdout",
     "output_type": "stream",
     "text": [
      "Confusion Matrix for Naive-Bayes: \n",
      "\n"
     ]
    },
    {
     "data": {
      "text/plain": [
       "array([[122778,      0],\n",
       "       [ 36785,      0]])"
      ]
     },
     "execution_count": 73,
     "metadata": {},
     "output_type": "execute_result"
    }
   ],
   "source": [
    "print('Confusion Matrix for Naive-Bayes: \\n')\n",
    "confusion_matrix(y_test, y_pred_nb)"
   ]
  },
  {
   "cell_type": "code",
   "execution_count": 74,
   "id": "44f34d6f-9edb-4419-b8cc-991589196233",
   "metadata": {},
   "outputs": [
    {
     "name": "stdout",
     "output_type": "stream",
     "text": [
      "Confusion Matrix for KNN:\n",
      "\n"
     ]
    },
    {
     "data": {
      "text/plain": [
       "array([[ 63712,  95953],\n",
       "       [ 21539, 138064]])"
      ]
     },
     "execution_count": 74,
     "metadata": {},
     "output_type": "execute_result"
    }
   ],
   "source": [
    "print('Confusion Matrix for KNN:\\n')\n",
    "confusion_matrix(y_test, y_pred_knn)"
   ]
  },
  {
   "cell_type": "code",
   "execution_count": null,
   "id": "25504951-f70c-4aa0-9e28-a776211942a3",
   "metadata": {},
   "outputs": [],
   "source": []
  }
 ],
 "metadata": {
  "kernelspec": {
   "display_name": "Python 3 (ipykernel)",
   "language": "python",
   "name": "python3"
  },
  "language_info": {
   "codemirror_mode": {
    "name": "ipython",
    "version": 3
   },
   "file_extension": ".py",
   "mimetype": "text/x-python",
   "name": "python",
   "nbconvert_exporter": "python",
   "pygments_lexer": "ipython3",
   "version": "3.13.9"
  }
 },
 "nbformat": 4,
 "nbformat_minor": 5
}
